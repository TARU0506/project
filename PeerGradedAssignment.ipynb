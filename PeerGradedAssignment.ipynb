{
 "cells": [
  {
   "cell_type": "markdown",
   "id": "1d91c90d",
   "metadata": {},
   "source": [
    "# *(Exercise-2)* Data Science Assignment "
   ]
  },
  {
   "cell_type": "markdown",
   "id": "9bd4d0af",
   "metadata": {},
   "source": [
    "*(Exercise-3)* **INTRODUCTION**\n",
    "- This notebook is a summarization of languages , libraries and tools in data science . It also includes arithmetic operations and expressions . \n"
   ]
  },
  {
   "cell_type": "markdown",
   "id": "c61333a3",
   "metadata": {},
   "source": [
    "*(Exercise-4)* **Data science languages include :**\n",
    "1. R\n",
    "2. C++\n",
    "3. Java\n",
    "4. JavaScript\n",
    "5. Python\n",
    "6. SQL\n",
    "7. Scala\n",
    "8. PHP\n",
    "9. Julia\n",
    "10. Visual Basic\n",
    "11. Go"
   ]
  },
  {
   "cell_type": "markdown",
   "id": "b7595a92",
   "metadata": {},
   "source": [
    "*(Exercise-5)* **Some of the commonly used libraries used by data scientists include :** \n",
    "1. Pandas \n",
    "2. Matplotlib \n",
    "3. Seaborn \n",
    "4. Scikit-learn \n",
    "5. NumPy \n",
    "6. SciPy  \n",
    "7. Keras \n",
    "8. TensorFlow \n",
    "9. Pytorch \n",
    "10. Apache Spark \n",
    "11. Vegas \n",
    "12. big DL \n",
    "13. ggplot2"
   ]
  },
  {
   "cell_type": "markdown",
   "id": "e38b7c7a",
   "metadata": {},
   "source": [
    "*(Exercise-6)*                            **Data Science Tools**\n",
    "OpenSource       | Cloud Based Tools                     | Commercial Tools\n",
    ":----------------|:-------------------------------------:|:------------------\n",
    "Anaconda            |Informatica Cloud Data Integration     |Apache Spark\n",
    "Jupyter Notebooks            |Datameer                               |Kaggle\n",
    "Spyder   |Amazon SageMaker Model Monitor         |SAS\n",
    "R Studio |IBM Cognos Business Intelligence Suit  |Scikit-learn\n",
    "-----------------------------------------------------------------------------"
   ]
  },
  {
   "cell_type": "markdown",
   "id": "c44dc727",
   "metadata": {},
   "source": [
    "*(Exercise-7)* **Below are some arithmetic expression examples:**"
   ]
  },
  {
   "cell_type": "markdown",
   "id": "f5b2d8f1",
   "metadata": {},
   "source": [
    "5 + 4 = 9"
   ]
  },
  {
   "cell_type": "markdown",
   "id": "29149a74",
   "metadata": {},
   "source": [
    "7 - 3 = 4"
   ]
  },
  {
   "cell_type": "markdown",
   "id": "ea07b019",
   "metadata": {},
   "source": [
    "36/6 = 6"
   ]
  },
  {
   "cell_type": "code",
   "execution_count": 4,
   "id": "23368d44",
   "metadata": {},
   "outputs": [
    {
     "data": {
      "text/plain": [
       "16"
      ]
     },
     "execution_count": 4,
     "metadata": {},
     "output_type": "execute_result"
    }
   ],
   "source": [
    "#(Exercise-8)Create a code cell to multiply and add numbers.\n",
    "(3*5)+1\n",
    "\n",
    "# Outcome: 16"
   ]
  },
  {
   "cell_type": "code",
   "execution_count": 3,
   "id": "bda7df71",
   "metadata": {},
   "outputs": [
    {
     "name": "stdout",
     "output_type": "stream",
     "text": [
      "3.0\n"
     ]
    }
   ],
   "source": [
    "#(Exercise-9)Create a code cell to convert minutes to hours.\n",
    "\n",
    "# M contains a value in minutes.\n",
    "M = 180\n",
    "\n",
    "#Converting M minutes to hours in H.\n",
    "H = M/60\n",
    "print (H)\n",
    "\n",
    "#Outcome: 3.0"
   ]
  },
  {
   "cell_type": "markdown",
   "id": "77a65bba",
   "metadata": {},
   "source": [
    "*(Exercise-10)*\n",
    "**OBJECTIVES**"
   ]
  },
  {
   "cell_type": "markdown",
   "id": "bcad63f1",
   "metadata": {},
   "source": [
    "- Creating markdown cells.\n",
    "- Adding comments to code cells . \n",
    "- Creating ordered and unordered lists in markdown cells .\n",
    "- Using heading styles to format content of markdown cells .\n",
    "- Creating tables in markdown cells .\n",
    "- Summarizing data science tools ."
   ]
  },
  {
   "cell_type": "markdown",
   "id": "49440c9e",
   "metadata": {},
   "source": [
    "*(Exercise-11)*"
   ]
  },
  {
   "cell_type": "markdown",
   "id": "ef6b3113",
   "metadata": {},
   "source": [
    "**Author's Name:**"
   ]
  },
  {
   "cell_type": "markdown",
   "id": "9375fa1f",
   "metadata": {},
   "source": [
    "ABC"
   ]
  }
 ],
 "metadata": {
  "kernelspec": {
   "display_name": "Python 3 (ipykernel)",
   "language": "python",
   "name": "python3"
  },
  "language_info": {
   "codemirror_mode": {
    "name": "ipython",
    "version": 3
   },
   "file_extension": ".py",
   "mimetype": "text/x-python",
   "name": "python",
   "nbconvert_exporter": "python",
   "pygments_lexer": "ipython3",
   "version": "3.10.9"
  }
 },
 "nbformat": 4,
 "nbformat_minor": 5
}
